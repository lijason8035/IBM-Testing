{
    "cells": [
        {
            "metadata": {
                "collapsed": true
            },
            "cell_type": "markdown",
            "source": "# Hello World"
        },
        {
            "metadata": {},
            "cell_type": "code",
            "source": "\nimport types\nimport pandas as pd\nfrom botocore.client import Config\nimport ibm_boto3\n\ndef __iter__(self): return 0\n\n# @hidden_cell\n# The following code accesses a file in your IBM Cloud Object Storage. It includes your credentials.\n# You might want to remove those credentials before you share the notebook.\nclient_1f4c5ce8471540b6831318538e41b7fc = ibm_boto3.client(service_name='s3',\n    ibm_api_key_id='CSbdSxW_ti0pmYNZE7VJuUWymGmdFF-C7QUec5IW2KM-',\n    ibm_auth_endpoint=\"https://iam.cloud.ibm.com/oidc/token\",\n    config=Config(signature_version='oauth'),\n    endpoint_url='https://s3-api.us-geo.objectstorage.service.networklayer.com')\n\nbody = client_1f4c5ce8471540b6831318538e41b7fc.get_object(Bucket='jupyternotebooktest-donotdelete-pr-u3kiilsnntee2i',Key='canada-cumulative-case-count-by-new-hybrid-regional-health-boundaries.csv')['Body']\n# add missing __iter__ method, so pandas accepts body as file-like object\nif not hasattr(body, \"__iter__\"): body.__iter__ = types.MethodType( __iter__, body )\n\ndf_data_1 = pd.read_csv(body)\ndf_data_1.head()\n",
            "execution_count": 1,
            "outputs": [
                {
                    "output_type": "execute_result",
                    "execution_count": 1,
                    "data": {
                        "text/plain": "   objectid  hr_uid province  \\\n0         1    3537       ON   \n1         2    3538       ON   \n2         3    3539       ON   \n3         4    3540       ON   \n4         5    3541       ON   \n\n                                             engname  \\\n0                       City of Hamilton Health Unit   \n1    Hastings and Prince Edward Counties Health Unit   \n2                     Huron Perth Public Health Unit   \n3                           Chatham-Kent Health Unit   \n4  Kingston, Frontenac and Lennox and Addington H...   \n\n                                             frename  casecount  deaths  \\\n0   Circonscription sanitaire de la cit\u00e9 de Hamilton        421    19.0   \n1  Circonscription sanitaire des comt\u00e9s de Hastin...         39     2.0   \n2  Circonscription sanitaire du comt\u00e9 de Huron Perth         44     4.0   \n3          Circonscription sanitaire de Chatham-Kent         78     1.0   \n4  Circonscription sanitaire de Kingston, Fronten...         59     0.0   \n\n   recovered   tests  totalpop2019  ...  pop80to84_2019  pop85older  \\\n0      237.0  3758.0        576272  ...           12640       14790   \n1       19.0     NaN        144779  ...            4381        4215   \n2       31.0  1413.0        136672  ...            3812        3933   \n3       26.0  1652.0        105303  ...            2990        3156   \n4       56.0  3848.0        206768  ...            5242        5596   \n\n   averageage_2019  medianage_2019    shape_area  shape_length   last_updated  \\\n0            41.40           40.50  2.166406e+09  2.318044e+05  1588109040000   \n1            45.30           48.30  1.467159e+10  1.030249e+06  1588109040000   \n2            42.75           43.95  1.070391e+10  5.053134e+05  1588109100000   \n3            43.70           45.50  4.677246e+09  3.807298e+05  1588109100000   \n4            43.30           43.10  1.422759e+10  9.732838e+05  1588109160000   \n\n                                           sourceurl  \\\n0   https://www.hamilton.ca/coronavirus/status-cases   \n1  https://hpepublichealth.ca/the-novel-coronavir...   \n2  https://www.hpph.ca/en/health-matters/covid-19...   \n3  https://ckphu.com/current-situation-in-chatham...   \n4  https://www.kflaph.ca/en/healthy-living/novel-...   \n\n                               globalid         retrieved_at  \n0  9217ed6b-3462-4814-8954-c6f9e2a98495  2020-04-29 14:16:03  \n1  e7c3696b-1ef1-45be-87dc-c0f6cf8b48cd  2020-04-29 14:16:03  \n2  b3413880-d660-43e0-b9e4-a327ef9812a8  2020-04-29 14:16:03  \n3  afe08e09-8e88-47b9-b59a-ff67649ed91f  2020-04-29 14:16:03  \n4  50f7da71-7eec-421a-8b99-a5fe028e141a  2020-04-29 14:16:03  \n\n[5 rows x 36 columns]",
                        "text/html": "<div>\n<style scoped>\n    .dataframe tbody tr th:only-of-type {\n        vertical-align: middle;\n    }\n\n    .dataframe tbody tr th {\n        vertical-align: top;\n    }\n\n    .dataframe thead th {\n        text-align: right;\n    }\n</style>\n<table border=\"1\" class=\"dataframe\">\n  <thead>\n    <tr style=\"text-align: right;\">\n      <th></th>\n      <th>objectid</th>\n      <th>hr_uid</th>\n      <th>province</th>\n      <th>engname</th>\n      <th>frename</th>\n      <th>casecount</th>\n      <th>deaths</th>\n      <th>recovered</th>\n      <th>tests</th>\n      <th>totalpop2019</th>\n      <th>...</th>\n      <th>pop80to84_2019</th>\n      <th>pop85older</th>\n      <th>averageage_2019</th>\n      <th>medianage_2019</th>\n      <th>shape_area</th>\n      <th>shape_length</th>\n      <th>last_updated</th>\n      <th>sourceurl</th>\n      <th>globalid</th>\n      <th>retrieved_at</th>\n    </tr>\n  </thead>\n  <tbody>\n    <tr>\n      <th>0</th>\n      <td>1</td>\n      <td>3537</td>\n      <td>ON</td>\n      <td>City of Hamilton Health Unit</td>\n      <td>Circonscription sanitaire de la cit\u00e9 de Hamilton</td>\n      <td>421</td>\n      <td>19.0</td>\n      <td>237.0</td>\n      <td>3758.0</td>\n      <td>576272</td>\n      <td>...</td>\n      <td>12640</td>\n      <td>14790</td>\n      <td>41.40</td>\n      <td>40.50</td>\n      <td>2.166406e+09</td>\n      <td>2.318044e+05</td>\n      <td>1588109040000</td>\n      <td>https://www.hamilton.ca/coronavirus/status-cases</td>\n      <td>9217ed6b-3462-4814-8954-c6f9e2a98495</td>\n      <td>2020-04-29 14:16:03</td>\n    </tr>\n    <tr>\n      <th>1</th>\n      <td>2</td>\n      <td>3538</td>\n      <td>ON</td>\n      <td>Hastings and Prince Edward Counties Health Unit</td>\n      <td>Circonscription sanitaire des comt\u00e9s de Hastin...</td>\n      <td>39</td>\n      <td>2.0</td>\n      <td>19.0</td>\n      <td>NaN</td>\n      <td>144779</td>\n      <td>...</td>\n      <td>4381</td>\n      <td>4215</td>\n      <td>45.30</td>\n      <td>48.30</td>\n      <td>1.467159e+10</td>\n      <td>1.030249e+06</td>\n      <td>1588109040000</td>\n      <td>https://hpepublichealth.ca/the-novel-coronavir...</td>\n      <td>e7c3696b-1ef1-45be-87dc-c0f6cf8b48cd</td>\n      <td>2020-04-29 14:16:03</td>\n    </tr>\n    <tr>\n      <th>2</th>\n      <td>3</td>\n      <td>3539</td>\n      <td>ON</td>\n      <td>Huron Perth Public Health Unit</td>\n      <td>Circonscription sanitaire du comt\u00e9 de Huron Perth</td>\n      <td>44</td>\n      <td>4.0</td>\n      <td>31.0</td>\n      <td>1413.0</td>\n      <td>136672</td>\n      <td>...</td>\n      <td>3812</td>\n      <td>3933</td>\n      <td>42.75</td>\n      <td>43.95</td>\n      <td>1.070391e+10</td>\n      <td>5.053134e+05</td>\n      <td>1588109100000</td>\n      <td>https://www.hpph.ca/en/health-matters/covid-19...</td>\n      <td>b3413880-d660-43e0-b9e4-a327ef9812a8</td>\n      <td>2020-04-29 14:16:03</td>\n    </tr>\n    <tr>\n      <th>3</th>\n      <td>4</td>\n      <td>3540</td>\n      <td>ON</td>\n      <td>Chatham-Kent Health Unit</td>\n      <td>Circonscription sanitaire de Chatham-Kent</td>\n      <td>78</td>\n      <td>1.0</td>\n      <td>26.0</td>\n      <td>1652.0</td>\n      <td>105303</td>\n      <td>...</td>\n      <td>2990</td>\n      <td>3156</td>\n      <td>43.70</td>\n      <td>45.50</td>\n      <td>4.677246e+09</td>\n      <td>3.807298e+05</td>\n      <td>1588109100000</td>\n      <td>https://ckphu.com/current-situation-in-chatham...</td>\n      <td>afe08e09-8e88-47b9-b59a-ff67649ed91f</td>\n      <td>2020-04-29 14:16:03</td>\n    </tr>\n    <tr>\n      <th>4</th>\n      <td>5</td>\n      <td>3541</td>\n      <td>ON</td>\n      <td>Kingston, Frontenac and Lennox and Addington H...</td>\n      <td>Circonscription sanitaire de Kingston, Fronten...</td>\n      <td>59</td>\n      <td>0.0</td>\n      <td>56.0</td>\n      <td>3848.0</td>\n      <td>206768</td>\n      <td>...</td>\n      <td>5242</td>\n      <td>5596</td>\n      <td>43.30</td>\n      <td>43.10</td>\n      <td>1.422759e+10</td>\n      <td>9.732838e+05</td>\n      <td>1588109160000</td>\n      <td>https://www.kflaph.ca/en/healthy-living/novel-...</td>\n      <td>50f7da71-7eec-421a-8b99-a5fe028e141a</td>\n      <td>2020-04-29 14:16:03</td>\n    </tr>\n  </tbody>\n</table>\n<p>5 rows \u00d7 36 columns</p>\n</div>"
                    },
                    "metadata": {}
                }
            ]
        },
        {
            "metadata": {},
            "cell_type": "code",
            "source": "df_data_1.columns",
            "execution_count": 3,
            "outputs": [
                {
                    "output_type": "execute_result",
                    "execution_count": 3,
                    "data": {
                        "text/plain": "Index(['objectid', 'hr_uid', 'province', 'engname', 'frename', 'casecount',\n       'deaths', 'recovered', 'tests', 'totalpop2019', 'pop0to4_2019',\n       'pop5to9_2019', 'pop10to14_2019', 'pop15to19_2019', 'pop20to24_2019',\n       'pop25to29_2019', 'pop30to34_2019', 'pop35to39_2019', 'pop40to44_2019',\n       'pop45to49_2019', 'pop50to54_2019', 'pop55to59_2019', 'pop60to64_2019',\n       'pop65to69_2019', 'pop70to74_2019', 'pop75to79_2019', 'pop80to84_2019',\n       'pop85older', 'averageage_2019', 'medianage_2019', 'shape_area',\n       'shape_length', 'last_updated', 'sourceurl', 'globalid',\n       'retrieved_at'],\n      dtype='object')"
                    },
                    "metadata": {}
                }
            ]
        },
        {
            "metadata": {},
            "cell_type": "code",
            "source": "",
            "execution_count": null,
            "outputs": []
        }
    ],
    "metadata": {
        "kernelspec": {
            "name": "python3",
            "display_name": "Python 3.6",
            "language": "python"
        },
        "language_info": {
            "name": "python",
            "version": "3.6.9",
            "mimetype": "text/x-python",
            "codemirror_mode": {
                "name": "ipython",
                "version": 3
            },
            "pygments_lexer": "ipython3",
            "nbconvert_exporter": "python",
            "file_extension": ".py"
        }
    },
    "nbformat": 4,
    "nbformat_minor": 1
}